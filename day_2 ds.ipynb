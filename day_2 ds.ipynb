{
 "cells": [
  {
   "cell_type": "code",
   "execution_count": 1,
   "metadata": {},
   "outputs": [],
   "source": [
    "from numpy import *"
   ]
  },
  {
   "cell_type": "code",
   "execution_count": 7,
   "metadata": {},
   "outputs": [
    {
     "name": "stdout",
     "output_type": "stream",
     "text": [
      "(array([3, 6], dtype=int64),)\n"
     ]
    }
   ],
   "source": [
    "arr=array([1,2,3,4,5,6,4])\n",
    "x=where(arr==4)#it shows all the position of the val 4\n",
    "print(x)"
   ]
  },
  {
   "cell_type": "code",
   "execution_count": 6,
   "metadata": {},
   "outputs": [
    {
     "name": "stdout",
     "output_type": "stream",
     "text": [
      "(array([1, 3, 5, 6], dtype=int64),)\n"
     ]
    }
   ],
   "source": [
    "x=where(arr%2==0)\n",
    "print(x)"
   ]
  },
  {
   "cell_type": "code",
   "execution_count": 10,
   "metadata": {},
   "outputs": [
    {
     "name": "stdout",
     "output_type": "stream",
     "text": [
      "[1 2 3 4 5 6]\n",
      "[1 2 3 4 5 6]\n"
     ]
    }
   ],
   "source": [
    "arr=array([4,5,6,3,2,1])\n",
    "arr.sort()\n",
    "print(arr)\n",
    "print(sort(arr))"
   ]
  },
  {
   "cell_type": "code",
   "execution_count": 12,
   "metadata": {},
   "outputs": [
    {
     "name": "stdout",
     "output_type": "stream",
     "text": [
      "['False' 'False' 'True']\n"
     ]
    }
   ],
   "source": [
    "arr=array(['False','True','False'])\n",
    "print(sort(arr))"
   ]
  },
  {
   "cell_type": "code",
   "execution_count": 16,
   "metadata": {},
   "outputs": [
    {
     "name": "stdout",
     "output_type": "stream",
     "text": [
      "[list([1, 2, 3]) list([4, 5, 6, 4])]\n",
      "[4 4 5 6]\n"
     ]
    },
    {
     "name": "stderr",
     "output_type": "stream",
     "text": [
      "<ipython-input-16-a6867e495990>:1: VisibleDeprecationWarning: Creating an ndarray from ragged nested sequences (which is a list-or-tuple of lists-or-tuples-or ndarrays with different lengths or shapes) is deprecated. If you meant to do this, you must specify 'dtype=object' when creating the ndarray\n",
      "  ar2=array([[1,2,3],[4,5,6,4]])\n"
     ]
    }
   ],
   "source": [
    "ar2=array([[1,2,3],[4,5,6,4]])\n",
    "print(sort(ar2))#sort in 2 dim array\n",
    "print(sort(ar2[1]))#sort specific element in 2 dim array"
   ]
  },
  {
   "cell_type": "code",
   "execution_count": 31,
   "metadata": {},
   "outputs": [
    {
     "name": "stdout",
     "output_type": "stream",
     "text": [
      "[False, False, True, True]\n",
      "[3 4]\n"
     ]
    }
   ],
   "source": [
    "arr=array([1,2,3,4])\n",
    "fil_arr=[]\n",
    "for i in arr:\n",
    "    if i>2:\n",
    "        fil_arr.append(True)\n",
    "    else:\n",
    "        fil_arr.append(False)\n",
    "\n",
    "new=arr[fil_arr]\n",
    "print(fil_arr)\n",
    "print(new)"
   ]
  },
  {
   "cell_type": "code",
   "execution_count": 44,
   "metadata": {},
   "outputs": [
    {
     "name": "stdout",
     "output_type": "stream",
     "text": [
      "12\n",
      "[8 8 8 4 6]\n"
     ]
    }
   ],
   "source": [
    "from numpy import *\n",
    "\n",
    "print(random.randint(100))#gives random int value for each execution\n",
    "print(random.randint(10,size=5))#it gives random number with the size of 5\n"
   ]
  },
  {
   "cell_type": "code",
   "execution_count": 38,
   "metadata": {},
   "outputs": [
    {
     "name": "stdout",
     "output_type": "stream",
     "text": [
      "[0.47289598 0.02866403 0.10050638 0.22075224 0.79753412 0.72674011\n",
      " 0.34074352 0.13753257 0.06015298 0.9182367 ]\n"
     ]
    }
   ],
   "source": [
    "print(random.rand(10))#print any 10 random float"
   ]
  },
  {
   "cell_type": "code",
   "execution_count": 50,
   "metadata": {},
   "outputs": [
    {
     "name": "stdout",
     "output_type": "stream",
     "text": [
      "5\n"
     ]
    }
   ],
   "source": [
    "\n",
    "print(random.choice([1,2,3,4,5]))"
   ]
  },
  {
   "cell_type": "code",
   "execution_count": 51,
   "metadata": {},
   "outputs": [
    {
     "name": "stdout",
     "output_type": "stream",
     "text": [
      "1\n"
     ]
    }
   ],
   "source": [
    "x=random.randint(10)\n",
    "\n",
    "print(random.choice(x))"
   ]
  },
  {
   "cell_type": "code",
   "execution_count": 57,
   "metadata": {},
   "outputs": [
    {
     "name": "stdout",
     "output_type": "stream",
     "text": [
      "[[7 6 7 8 6]\n",
      " [6 4 1 8 8]]\n",
      "[4 3]\n"
     ]
    }
   ],
   "source": [
    "print(random.randint(10,size=(2,5)))\n",
    "\n",
    "print(random.randint(10,size=(2)))"
   ]
  },
  {
   "cell_type": "code",
   "execution_count": 58,
   "metadata": {},
   "outputs": [
    {
     "name": "stdout",
     "output_type": "stream",
     "text": [
      "[3 5 5 4 7 5 2 3 4 5]\n"
     ]
    }
   ],
   "source": [
    "from numpy import random\n",
    "x=random.binomial(n=10,p=0.5,size=10)#*binomial distribution*-bi=2,nomial=name or value.\n",
    "print(x)"
   ]
  },
  {
   "cell_type": "code",
   "execution_count": 60,
   "metadata": {},
   "outputs": [
    {
     "data": {
      "image/png": "[encoded data removed]",
      "text/plain": [
       "<Figure size 432x288 with 1 Axes>"
      ]
     },
     "metadata": {
      "needs_background": "light"
     },
     "output_type": "display_data"
    }
   ],
   "source": [
    "from numpy import random\n",
    "import matplotlib.pyplot as plt\n",
    "import seaborn as sb#for good design of graph\n",
    "sb.distplot(random.binomial(n=10,p=0.5,size=10),hist=True ,kde=False)\n",
    "plt.show()#to show the plot"
   ]
  },
  {
   "cell_type": "code",
   "execution_count": 73,
   "metadata": {},
   "outputs": [
    {
     "name": "stdout",
     "output_type": "stream",
     "text": [
      "0    a\n",
      "1    b\n",
      "2    c\n",
      "3    d\n",
      "dtype: object\n",
      "1    a\n",
      "2    b\n",
      "3    c\n",
      "4    d\n",
      "dtype: object\n"
     ]
    }
   ],
   "source": [
    "#pandas series\n",
    "import pandas as pd\n",
    "import numpy as np\n",
    "d=np.array(['a','b','c','d'])\n",
    "s=pd.Series(d)\n",
    "si=pd.Series(d,index=[1,2,3,4])\n",
    "print(s)\n",
    "print(si)"
   ]
  },
  {
   "cell_type": "code",
   "execution_count": 70,
   "metadata": {},
   "outputs": [
    {
     "name": "stdout",
     "output_type": "stream",
     "text": [
      "       name  age\n",
      "se1    mani    2\n",
      "se2  naveen    3\n",
      "se3    kavi    4\n"
     ]
    }
   ],
   "source": [
    "import pandas as pd\n",
    "d={'name':['mani','naveen','kavi'],'age':[2,3,4]}\n",
    "f=pd.DataFrame(d,index=['se1','se2','se3'])\n",
    "print(f)"
   ]
  },
  {
   "cell_type": "code",
   "execution_count": 88,
   "metadata": {},
   "outputs": [
    {
     "name": "stdout",
     "output_type": "stream",
     "text": [
      "original data         one       two     three\n",
      "a  0.334738 -1.196208 -2.118291\n",
      "b  0.015890  1.077444 -0.552325\n",
      "c  0.622176  0.398898 -1.963086\n",
      "d       NaN       NaN       NaN\n",
      "e -0.824367 -1.145391 -0.325990\n",
      "f       NaN       NaN       NaN\n",
      "g       NaN       NaN       NaN\n",
      "h  0.169009 -0.729294  0.274489\n",
      "        one       two     three\n",
      "a  0.334738 -1.196208 -2.118291\n",
      "b  0.015890  1.077444 -0.552325\n",
      "c  0.622176  0.398898 -1.963086\n",
      "d  0.000000  0.000000  0.000000\n",
      "e -0.824367 -1.145391 -0.325990\n",
      "f  0.000000  0.000000  0.000000\n",
      "g  0.000000  0.000000  0.000000\n",
      "h  0.169009 -0.729294  0.274489\n"
     ]
    }
   ],
   "source": [
    "#missing data prediction and data alignment\n",
    "import pandas as pd\n",
    "import numpy as np\n",
    "d=pd.DataFrame(random.randn(5,3),index=['a','b','c','e','h'],columns=['one','two','three'])\n",
    "d=d.reindex(['a','b','c','d','e','f','g','h'])\n",
    "print(\"original data\",d)\n",
    "#putting zero in the place of nan(not a number)\n",
    "print(d.fillna(0))\n",
    "\n"
   ]
  },
  {
   "cell_type": "code",
   "execution_count": 81,
   "metadata": {},
   "outputs": [
    {
     "name": "stdout",
     "output_type": "stream",
     "text": [
      "a    False\n",
      "b    False\n",
      "c    False\n",
      "d     True\n",
      "e    False\n",
      "f     True\n",
      "g     True\n",
      "h    False\n",
      "Name: one, dtype: bool\n"
     ]
    }
   ],
   "source": [
    "import pandas as pd\n",
    "import numpy as np\n",
    "d=pd.DataFrame(random.randn(5,3),index=['a','b','c','e','h'],columns=['one','two','three'])\n",
    "d=d.reindex(['a','b','c','d','e','f','g','h'])\n",
    "print(d['one'].isnull())"
   ]
  },
  {
   "cell_type": "code",
   "execution_count": 97,
   "metadata": {},
   "outputs": [
    {
     "name": "stdout",
     "output_type": "stream",
     "text": [
      "        one       two     three\n",
      "a -0.817167 -1.135725 -0.195535\n",
      "b  1.294272 -1.963614 -1.509769\n",
      "c -0.263017  0.871050  1.012979\n",
      "d       NaN       NaN       NaN\n",
      "e -0.156037  0.497648  0.040535\n",
      "f       NaN       NaN       NaN\n",
      "g       NaN       NaN       NaN\n",
      "h -0.199178 -0.341444 -1.058812\n",
      "after filling zero\n",
      "         one       two     three\n",
      "a -0.817167 -1.135725 -0.195535\n",
      "b  1.294272 -1.963614 -1.509769\n",
      "c -0.263017  0.871050  1.012979\n",
      "d  0.000000  0.000000  0.000000\n",
      "e -0.156037  0.497648  0.040535\n",
      "f  0.000000  0.000000  0.000000\n",
      "g  0.000000  0.000000  0.000000\n",
      "h -0.199178 -0.341444 -1.058812\n"
     ]
    }
   ],
   "source": [
    "import pandas as pd\n",
    "import numpy as np\n",
    "d=pd.DataFrame(random.randn(5,3),index=['a','b','c','e','h'],columns=['one','two','three'])\n",
    "d=d.reindex(['a','b','c','d','e','f','g','h'])\n",
    "print(d)\n",
    "#putting zero in the place of nan(not a number)\n",
    "print(\"after filling zero\\n\",d.fillna(0))\n"
   ]
  },
  {
   "cell_type": "code",
   "execution_count": 98,
   "metadata": {},
   "outputs": [
    {
     "name": "stdout",
     "output_type": "stream",
     "text": [
      "        one       two     three\n",
      "a -1.525122  0.425769 -2.064161\n",
      "b  2.068605 -0.675638  0.594243\n",
      "c -0.054156 -0.777110 -0.878440\n",
      "d       NaN       NaN       NaN\n",
      "e -0.493207  1.636851  0.349533\n",
      "f       NaN       NaN       NaN\n",
      "g       NaN       NaN       NaN\n",
      "h  2.029482 -0.629623  0.256890\n",
      "after filling zero\n",
      "         one       two     three\n",
      "a -1.525122  0.425769 -2.064161\n",
      "b  2.068605 -0.675638  0.594243\n",
      "c -0.054156 -0.777110 -0.878440\n",
      "d  0.000000  0.000000  0.000000\n",
      "e -0.493207  1.636851  0.349533\n",
      "f  0.000000  0.000000  0.000000\n",
      "g  0.000000  0.000000  0.000000\n",
      "h  2.029482 -0.629623  0.256890\n",
      "forward padding         one       two     three\n",
      "a -1.525122  0.425769 -2.064161\n",
      "b  2.068605 -0.675638  0.594243\n",
      "c -0.054156 -0.777110 -0.878440\n",
      "d -0.054156 -0.777110 -0.878440\n",
      "e -0.493207  1.636851  0.349533\n",
      "f -0.493207  1.636851  0.349533\n",
      "g -0.493207  1.636851  0.349533\n",
      "h  2.029482 -0.629623  0.256890\n"
     ]
    }
   ],
   "source": [
    "import pandas as pd\n",
    "import numpy as np\n",
    "d=pd.DataFrame(random.randn(5,3),index=['a','b','c','e','h'],columns=['one','two','three'])\n",
    "d=d.reindex(['a','b','c','d','e','f','g','h'])\n",
    "print(d)\n",
    "#putting zero in the place of nan(not a number)\n",
    "print(\"after filling zero\\n\",d.fillna(0))\n",
    "print(\"forward padding\",d.fillna(method=\"pad\"))#it fills with the values of top values"
   ]
  },
  {
   "cell_type": "code",
   "execution_count": 103,
   "metadata": {},
   "outputs": [
    {
     "name": "stdout",
     "output_type": "stream",
     "text": [
      "        one       two     three\n",
      "a -0.278492  0.764143  1.246824\n",
      "b  0.598460  0.592013 -0.968017\n",
      "c -0.809421 -1.313873  0.720647\n",
      "d       NaN       NaN       NaN\n",
      "e  2.217093  0.109331  0.038766\n",
      "f       NaN       NaN       NaN\n",
      "g       NaN       NaN       NaN\n",
      "h -0.761078 -1.074768 -0.246843\n",
      "after filling zero\n",
      "         one       two     three\n",
      "a -0.278492  0.764143  1.246824\n",
      "b  0.598460  0.592013 -0.968017\n",
      "c -0.809421 -1.313873  0.720647\n",
      "e  2.217093  0.109331  0.038766\n",
      "h -0.761078 -1.074768 -0.246843\n"
     ]
    }
   ],
   "source": [
    "import pandas as pd\n",
    "import numpy as np\n",
    "d=pd.DataFrame(random.randn(5,3),index=['a','b','c','e','h'],columns=['one','two','three'])\n",
    "d=d.reindex(['a','b','c','d','e','f','g','h'])\n",
    "print(d)\n",
    "#putting zero in the place of nan(not a number)\n",
    "print(\"after filling zero\\n\",d.dropna(0))\n"
   ]
  },
  {
   "cell_type": "code",
   "execution_count": 105,
   "metadata": {},
   "outputs": [
    {
     "name": "stdout",
     "output_type": "stream",
     "text": [
      "        one       two     three\n",
      "a  1.773636 -1.186129 -1.314814\n",
      "b  0.017005  0.134719 -0.953616\n",
      "c -0.769006 -0.001037  0.462465\n",
      "d       NaN       NaN       NaN\n",
      "e  0.199163 -0.618443 -0.282675\n",
      "f       NaN       NaN       NaN\n",
      "g       NaN       NaN       NaN\n",
      "h -1.535097 -0.529953  1.167366\n",
      "after droping nan values         one       two     three\n",
      "a  1.773636 -1.186129 -1.314814\n",
      "b  0.017005  0.134719 -0.953616\n",
      "c -0.769006 -0.001037  0.462465\n",
      "e  0.199163 -0.618443 -0.282675\n",
      "h -1.535097 -0.529953  1.167366\n"
     ]
    }
   ],
   "source": [
    "import pandas as pd\n",
    "import numpy as np\n",
    "d=pd.DataFrame(random.randn(5,3),index=['a','b','c','e','h'],columns=['one','two','three'])\n",
    "d=d.reindex(['a','b','c','d','e','f','g','h'])\n",
    "print(d)\n",
    "print(\"after droping nan values\",d.dropna())"
   ]
  },
  {
   "cell_type": "code",
   "execution_count": 108,
   "metadata": {},
   "outputs": [
    {
     "name": "stdout",
     "output_type": "stream",
     "text": [
      "   one  two\n",
      "0   10   30\n",
      "1   20   40\n",
      "2   30   50\n",
      "3   40   60\n",
      "4   50   70\n",
      "   one  two\n",
      "0   30   40\n",
      "1   20   40\n",
      "2   40   50\n",
      "3   40   60\n",
      "4   50   70\n"
     ]
    }
   ],
   "source": [
    "#replcing values inside pandas dataframe\n",
    "import pandas as pd\n",
    "import numpy as np\n",
    "d=pd.DataFrame({'one':[10,20,30,40,50],'two':[30,40,50,60,70]})\n",
    "\n",
    "print(d)\n",
    "#replace values\n",
    "print(d.replace({10:30,30:40}))\n"
   ]
  },
  {
   "cell_type": "code",
   "execution_count": 110,
   "metadata": {},
   "outputs": [
    {
     "name": "stdout",
     "output_type": "stream",
     "text": [
      "downloaded\n"
     ]
    }
   ],
   "source": [
    "#downloading csv file using python\n",
    "import requests\n",
    "download_url=\"https://covid.ourworldindata.org/data/owid-covid-data.csv\"\n",
    "tc=\"covid19.csv\"\n",
    "response=requests.get(download_url)\n",
    "response.raise_for_status()#check the request was successful\n",
    "with open(tc,'wb') as f:\n",
    "    f.write(response.content)\n",
    "print(\"downloaded\")"
   ]
  },
  {
   "cell_type": "code",
   "execution_count": 111,
   "metadata": {},
   "outputs": [
    {
     "name": "stdout",
     "output_type": "stream",
     "text": [
      "      iso_code continent     location        date  total_cases  new_cases  \\\n",
      "0          AFG      Asia  Afghanistan  2020-02-24          1.0        1.0   \n",
      "1          AFG      Asia  Afghanistan  2020-02-25          1.0        0.0   \n",
      "2          AFG      Asia  Afghanistan  2020-02-26          1.0        0.0   \n",
      "3          AFG      Asia  Afghanistan  2020-02-27          1.0        0.0   \n",
      "4          AFG      Asia  Afghanistan  2020-02-28          1.0        0.0   \n",
      "...        ...       ...          ...         ...          ...        ...   \n",
      "98899      ZWE    Africa     Zimbabwe  2021-06-24      44306.0      826.0   \n",
      "98900      ZWE    Africa     Zimbabwe  2021-06-25      45217.0      911.0   \n",
      "98901      ZWE    Africa     Zimbabwe  2021-06-26      46018.0      801.0   \n",
      "98902      ZWE    Africa     Zimbabwe  2021-06-27      46442.0      424.0   \n",
      "98903      ZWE    Africa     Zimbabwe  2021-06-28      47284.0      842.0   \n",
      "\n",
      "       new_cases_smoothed  total_deaths  new_deaths  new_deaths_smoothed  ...  \\\n",
      "0                     NaN           NaN         NaN                  NaN  ...   \n",
      "1                     NaN           NaN         NaN                  NaN  ...   \n",
      "2                     NaN           NaN         NaN                  NaN  ...   \n",
      "3                     NaN           NaN         NaN                  NaN  ...   \n",
      "4                     NaN           NaN         NaN                  NaN  ...   \n",
      "...                   ...           ...         ...                  ...  ...   \n",
      "98899             482.714        1709.0        17.0                8.857  ...   \n",
      "98900             554.571        1721.0        12.0                9.286  ...   \n",
      "98901             627.143        1725.0         4.0                8.429  ...   \n",
      "98902             666.143        1736.0        11.0                9.143  ...   \n",
      "98903             727.000        1749.0        13.0                9.143  ...   \n",
      "\n",
      "       extreme_poverty  cardiovasc_death_rate  diabetes_prevalence  \\\n",
      "0                  NaN                597.029                 9.59   \n",
      "1                  NaN                597.029                 9.59   \n",
      "2                  NaN                597.029                 9.59   \n",
      "3                  NaN                597.029                 9.59   \n",
      "4                  NaN                597.029                 9.59   \n",
      "...                ...                    ...                  ...   \n",
      "98899             21.4                307.846                 1.82   \n",
      "98900             21.4                307.846                 1.82   \n",
      "98901             21.4                307.846                 1.82   \n",
      "98902             21.4                307.846                 1.82   \n",
      "98903             21.4                307.846                 1.82   \n",
      "\n",
      "       female_smokers  male_smokers  handwashing_facilities  \\\n",
      "0                 NaN           NaN                  37.746   \n",
      "1                 NaN           NaN                  37.746   \n",
      "2                 NaN           NaN                  37.746   \n",
      "3                 NaN           NaN                  37.746   \n",
      "4                 NaN           NaN                  37.746   \n",
      "...               ...           ...                     ...   \n",
      "98899             1.6          30.7                  36.791   \n",
      "98900             1.6          30.7                  36.791   \n",
      "98901             1.6          30.7                  36.791   \n",
      "98902             1.6          30.7                  36.791   \n",
      "98903             1.6          30.7                  36.791   \n",
      "\n",
      "       hospital_beds_per_thousand  life_expectancy  human_development_index  \\\n",
      "0                             0.5            64.83                    0.511   \n",
      "1                             0.5            64.83                    0.511   \n",
      "2                             0.5            64.83                    0.511   \n",
      "3                             0.5            64.83                    0.511   \n",
      "4                             0.5            64.83                    0.511   \n",
      "...                           ...              ...                      ...   \n",
      "98899                         1.7            61.49                    0.571   \n",
      "98900                         1.7            61.49                    0.571   \n",
      "98901                         1.7            61.49                    0.571   \n",
      "98902                         1.7            61.49                    0.571   \n",
      "98903                         1.7            61.49                    0.571   \n",
      "\n",
      "       excess_mortality  \n",
      "0                   NaN  \n",
      "1                   NaN  \n",
      "2                   NaN  \n",
      "3                   NaN  \n",
      "4                   NaN  \n",
      "...                 ...  \n",
      "98899               NaN  \n",
      "98900               NaN  \n",
      "98901               NaN  \n",
      "98902               NaN  \n",
      "98903               NaN  \n",
      "\n",
      "[98904 rows x 60 columns]\n"
     ]
    }
   ],
   "source": [
    "#read csv file using python(not dowloading)\n",
    "d=pd.read_csv(\"https://covid.ourworldindata.org/data/owid-covid-data.csv\")\n",
    "print(d)"
   ]
  },
  {
   "cell_type": "code",
   "execution_count": 113,
   "metadata": {},
   "outputs": [],
   "source": [
    "import pandas as pd\n",
    "#creating new dataset\n",
    "name=['riya','poorvi','kajol','ramesh']\n",
    "deg=['bsc','msc','me','be']\n",
    "scr=[30,40,50,60]\n",
    "dic={\"name\":name,\"degree\":deg,\"score\":scr}\n",
    "d=pd.DataFrame(dic)\n",
    "d.to_csv(\"riya.csv\")\n"
   ]
  },
  {
   "cell_type": "code",
   "execution_count": 114,
   "metadata": {},
   "outputs": [
    {
     "name": "stdout",
     "output_type": "stream",
     "text": [
      "   Unnamed: 0    name degree  score\n",
      "0           0    riya    bsc     30\n",
      "1           1  poorvi    msc     40\n",
      "2           2   kajol     me     50\n",
      "3           3  ramesh     be     60\n"
     ]
    }
   ],
   "source": [
    "#read created dataset\n",
    "d=pd.read_csv(\"riya.csv\")\n",
    "print(d)"
   ]
  },
  {
   "cell_type": "code",
   "execution_count": 117,
   "metadata": {},
   "outputs": [
    {
     "data": {
      "text/plain": [
       "[<matplotlib.lines.Line2D at 0x15712af37f0>]"
      ]
     },
     "execution_count": 117,
     "metadata": {},
     "output_type": "execute_result"
    },
    {
     "data": {
      "image/png": "[encoded data removed]",
      "text/plain": [
       "<Figure size 432x288 with 1 Axes>"
      ]
     },
     "metadata": {
      "needs_background": "light"
     },
     "output_type": "display_data"
    }
   ],
   "source": [
    "#simple plot\n",
    "import numpy as np\n",
    "import matplotlib.pyplot as plt\n",
    "x=np.arange(0,10)\n",
    "y=x ^ 2\n",
    "plt.plot(x,y)\n"
   ]
  },
  {
   "cell_type": "code",
   "execution_count": 123,
   "metadata": {},
   "outputs": [
    {
     "data": {
      "image/png": "[encoded data removed]",
      "text/plain": [
       "<Figure size 432x288 with 1 Axes>"
      ]
     },
     "metadata": {
      "needs_background": "light"
     },
     "output_type": "display_data"
    }
   ],
   "source": [
    "import numpy as np\n",
    "import matplotlib.pyplot as plt\n",
    "x=np.arange(0,10)\n",
    "y=x ^ 2\n",
    "plt.title(\"graph\")\n",
    "plt.xlabel(\"time\")\n",
    "plt.ylabel(\"distance\")\n",
    "#plt.plot(x,y) for simple plot\n",
    "plt.plot(x,y,'b') #for color \n",
    "plt.plot(x,y,'>')#for graph joining points\n",
    "plt.savefig('riya.pdf',format='pdf')#for download the output graph as pdf\n"
   ]
  },
  {
   "cell_type": "code",
   "execution_count": 127,
   "metadata": {},
   "outputs": [
    {
     "name": "stderr",
     "output_type": "stream",
     "text": [
      "<ipython-input-127-e124c62a56b9>:11: MatplotlibDeprecationWarning: The 's' parameter of annotate() has been renamed 'text' since Matplotlib 3.3; support for the old name will be dropped two minor releases later.\n",
      "  plt.annotate(xy=[2,2], s='starting ')\n",
      "<ipython-input-127-e124c62a56b9>:12: MatplotlibDeprecationWarning: The 's' parameter of annotate() has been renamed 'text' since Matplotlib 3.3; support for the old name will be dropped two minor releases later.\n",
      "  plt.annotate(xy=[8,8], s='ending')\n"
     ]
    },
    {
     "data": {
      "text/plain": [
       "Text(8, 8, 'ending')"
      ]
     },
     "execution_count": 127,
     "metadata": {},
     "output_type": "execute_result"
    },
    {
     "data": {
      "image/png": "[encoded data removed]",
      "text/plain": [
       "<Figure size 432x288 with 1 Axes>"
      ]
     },
     "metadata": {
      "needs_background": "light"
     },
     "output_type": "display_data"
    }
   ],
   "source": [
    "import numpy as np\n",
    "import matplotlib.pyplot as plt\n",
    "x=np.arange(0,10)\n",
    "y=x ^ 2\n",
    "plt.title(\"graph\")\n",
    "plt.xlabel(\"time\")\n",
    "plt.ylabel(\"distance\")\n",
    "#plt.plot(x,y) for simple plot\n",
    "plt.plot(x,y,'b') #for color \n",
    "plt.plot(x,y,'>')#for graph joining points\n",
    "plt.annotate(xy=[2,2], s='starting ')\n",
    "plt.annotate(xy=[8,8], s='ending')\n"
   ]
  },
  {
   "cell_type": "code",
   "execution_count": 129,
   "metadata": {},
   "outputs": [
    {
     "data": {
      "text/plain": [
       "<AxesSubplot:>"
      ]
     },
     "execution_count": 129,
     "metadata": {},
     "output_type": "execute_result"
    },
    {
     "data": {
      "image/png": "[encoded data removed]",
      "text/plain": [
       "<Figure size 432x288 with 1 Axes>"
      ]
     },
     "metadata": {
      "needs_background": "light"
     },
     "output_type": "display_data"
    }
   ],
   "source": [
    "import numpy as np\n",
    "import pandas as pd\n",
    "d=pd.DataFrame(np.random.rand(10,5),columns=['a','b','c','d','e'])\n",
    "#d.plot.box() -gives only box\n",
    "d.plot.box(grid='True')"
   ]
  },
  {
   "cell_type": "code",
   "execution_count": null,
   "metadata": {},
   "outputs": [],
   "source": []
  }
 ],
 "metadata": {
  "kernelspec": {
   "display_name": "Python 3",
   "language": "python",
   "name": "python3"
  },
  "language_info": {
   "codemirror_mode": {
    "name": "ipython",
    "version": 3
   },
   "file_extension": ".py",
   "mimetype": "text/x-python",
   "name": "python",
   "nbconvert_exporter": "python",
   "pygments_lexer": "ipython3",
   "version": "3.8.5"
  }
 },
 "nbformat": 4,
 "nbformat_minor": 4
}
